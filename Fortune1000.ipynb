{
 "cells": [
  {
   "cell_type": "code",
   "execution_count": 1,
   "metadata": {},
   "outputs": [],
   "source": [
    "import pandas as pd\n",
    "from matplotlib import pyplot as plt\n",
    "import numpy as np"
   ]
  },
  {
   "cell_type": "code",
   "execution_count": 2,
   "metadata": {},
   "outputs": [],
   "source": [
    "fortune=pd.read_csv(\"fortune1000.csv\")"
   ]
  },
  {
   "cell_type": "code",
   "execution_count": 3,
   "metadata": {
    "scrolled": true
   },
   "outputs": [
    {
     "data": {
      "text/html": [
       "<div>\n",
       "<style scoped>\n",
       "    .dataframe tbody tr th:only-of-type {\n",
       "        vertical-align: middle;\n",
       "    }\n",
       "\n",
       "    .dataframe tbody tr th {\n",
       "        vertical-align: top;\n",
       "    }\n",
       "\n",
       "    .dataframe thead th {\n",
       "        text-align: right;\n",
       "    }\n",
       "</style>\n",
       "<table border=\"1\" class=\"dataframe\">\n",
       "  <thead>\n",
       "    <tr style=\"text-align: right;\">\n",
       "      <th></th>\n",
       "      <th>Rank</th>\n",
       "      <th>Company</th>\n",
       "      <th>Sector</th>\n",
       "      <th>Industry</th>\n",
       "      <th>Location</th>\n",
       "      <th>Revenue</th>\n",
       "      <th>Profits</th>\n",
       "      <th>Employees</th>\n",
       "    </tr>\n",
       "  </thead>\n",
       "  <tbody>\n",
       "    <tr>\n",
       "      <th>0</th>\n",
       "      <td>1</td>\n",
       "      <td>Walmart</td>\n",
       "      <td>Retailing</td>\n",
       "      <td>General Merchandisers</td>\n",
       "      <td>Bentonville, AR</td>\n",
       "      <td>482130</td>\n",
       "      <td>14694</td>\n",
       "      <td>2300000</td>\n",
       "    </tr>\n",
       "    <tr>\n",
       "      <th>1</th>\n",
       "      <td>2</td>\n",
       "      <td>Exxon Mobil</td>\n",
       "      <td>Energy</td>\n",
       "      <td>Petroleum Refining</td>\n",
       "      <td>Irving, TX</td>\n",
       "      <td>246204</td>\n",
       "      <td>16150</td>\n",
       "      <td>75600</td>\n",
       "    </tr>\n",
       "    <tr>\n",
       "      <th>2</th>\n",
       "      <td>3</td>\n",
       "      <td>Apple</td>\n",
       "      <td>Technology</td>\n",
       "      <td>Computers, Office Equipment</td>\n",
       "      <td>Cupertino, CA</td>\n",
       "      <td>233715</td>\n",
       "      <td>53394</td>\n",
       "      <td>110000</td>\n",
       "    </tr>\n",
       "    <tr>\n",
       "      <th>3</th>\n",
       "      <td>4</td>\n",
       "      <td>Berkshire Hathaway</td>\n",
       "      <td>Financials</td>\n",
       "      <td>Insurance: Property and Casualty (Stock)</td>\n",
       "      <td>Omaha, NE</td>\n",
       "      <td>210821</td>\n",
       "      <td>24083</td>\n",
       "      <td>331000</td>\n",
       "    </tr>\n",
       "    <tr>\n",
       "      <th>4</th>\n",
       "      <td>5</td>\n",
       "      <td>McKesson</td>\n",
       "      <td>Health Care</td>\n",
       "      <td>Wholesalers: Health Care</td>\n",
       "      <td>San Francisco, CA</td>\n",
       "      <td>181241</td>\n",
       "      <td>1476</td>\n",
       "      <td>70400</td>\n",
       "    </tr>\n",
       "  </tbody>\n",
       "</table>\n",
       "</div>"
      ],
      "text/plain": [
       "   Rank             Company       Sector  \\\n",
       "0     1             Walmart    Retailing   \n",
       "1     2         Exxon Mobil       Energy   \n",
       "2     3               Apple   Technology   \n",
       "3     4  Berkshire Hathaway   Financials   \n",
       "4     5            McKesson  Health Care   \n",
       "\n",
       "                                   Industry           Location  Revenue  \\\n",
       "0                     General Merchandisers    Bentonville, AR   482130   \n",
       "1                        Petroleum Refining         Irving, TX   246204   \n",
       "2               Computers, Office Equipment      Cupertino, CA   233715   \n",
       "3  Insurance: Property and Casualty (Stock)          Omaha, NE   210821   \n",
       "4                  Wholesalers: Health Care  San Francisco, CA   181241   \n",
       "\n",
       "   Profits  Employees  \n",
       "0    14694    2300000  \n",
       "1    16150      75600  \n",
       "2    53394     110000  \n",
       "3    24083     331000  \n",
       "4     1476      70400  "
      ]
     },
     "execution_count": 3,
     "metadata": {},
     "output_type": "execute_result"
    }
   ],
   "source": [
    "fortune.head()"
   ]
  },
  {
   "cell_type": "code",
   "execution_count": 4,
   "metadata": {},
   "outputs": [
    {
     "name": "stdout",
     "output_type": "stream",
     "text": [
      "<class 'pandas.core.frame.DataFrame'>\n",
      "RangeIndex: 1000 entries, 0 to 999\n",
      "Data columns (total 8 columns):\n",
      " #   Column     Non-Null Count  Dtype \n",
      "---  ------     --------------  ----- \n",
      " 0   Rank       1000 non-null   int64 \n",
      " 1   Company    1000 non-null   object\n",
      " 2   Sector     1000 non-null   object\n",
      " 3   Industry   1000 non-null   object\n",
      " 4   Location   1000 non-null   object\n",
      " 5   Revenue    1000 non-null   int64 \n",
      " 6   Profits    1000 non-null   int64 \n",
      " 7   Employees  1000 non-null   int64 \n",
      "dtypes: int64(4), object(4)\n",
      "memory usage: 62.6+ KB\n"
     ]
    }
   ],
   "source": [
    "fortune.info()"
   ]
  },
  {
   "cell_type": "code",
   "execution_count": 5,
   "metadata": {},
   "outputs": [
    {
     "data": {
      "text/html": [
       "<div>\n",
       "<style scoped>\n",
       "    .dataframe tbody tr th:only-of-type {\n",
       "        vertical-align: middle;\n",
       "    }\n",
       "\n",
       "    .dataframe tbody tr th {\n",
       "        vertical-align: top;\n",
       "    }\n",
       "\n",
       "    .dataframe thead th {\n",
       "        text-align: right;\n",
       "    }\n",
       "</style>\n",
       "<table border=\"1\" class=\"dataframe\">\n",
       "  <thead>\n",
       "    <tr style=\"text-align: right;\">\n",
       "      <th></th>\n",
       "      <th>Rank</th>\n",
       "      <th>Revenue</th>\n",
       "      <th>Profits</th>\n",
       "      <th>Employees</th>\n",
       "    </tr>\n",
       "  </thead>\n",
       "  <tbody>\n",
       "    <tr>\n",
       "      <th>count</th>\n",
       "      <td>1000.00000</td>\n",
       "      <td>1000.000000</td>\n",
       "      <td>1000.000000</td>\n",
       "      <td>1.000000e+03</td>\n",
       "    </tr>\n",
       "    <tr>\n",
       "      <th>mean</th>\n",
       "      <td>500.49600</td>\n",
       "      <td>13535.525000</td>\n",
       "      <td>894.093000</td>\n",
       "      <td>3.302800e+04</td>\n",
       "    </tr>\n",
       "    <tr>\n",
       "      <th>std</th>\n",
       "      <td>288.81727</td>\n",
       "      <td>28820.519135</td>\n",
       "      <td>3297.063594</td>\n",
       "      <td>9.042769e+04</td>\n",
       "    </tr>\n",
       "    <tr>\n",
       "      <th>min</th>\n",
       "      <td>1.00000</td>\n",
       "      <td>1895.000000</td>\n",
       "      <td>-23119.000000</td>\n",
       "      <td>5.200000e+01</td>\n",
       "    </tr>\n",
       "    <tr>\n",
       "      <th>25%</th>\n",
       "      <td>250.75000</td>\n",
       "      <td>2898.250000</td>\n",
       "      <td>82.750000</td>\n",
       "      <td>6.405250e+03</td>\n",
       "    </tr>\n",
       "    <tr>\n",
       "      <th>50%</th>\n",
       "      <td>500.50000</td>\n",
       "      <td>5113.000000</td>\n",
       "      <td>282.500000</td>\n",
       "      <td>1.251950e+04</td>\n",
       "    </tr>\n",
       "    <tr>\n",
       "      <th>75%</th>\n",
       "      <td>750.25000</td>\n",
       "      <td>11386.000000</td>\n",
       "      <td>784.500000</td>\n",
       "      <td>2.812500e+04</td>\n",
       "    </tr>\n",
       "    <tr>\n",
       "      <th>max</th>\n",
       "      <td>1000.00000</td>\n",
       "      <td>482130.000000</td>\n",
       "      <td>53394.000000</td>\n",
       "      <td>2.300000e+06</td>\n",
       "    </tr>\n",
       "  </tbody>\n",
       "</table>\n",
       "</div>"
      ],
      "text/plain": [
       "             Rank        Revenue       Profits     Employees\n",
       "count  1000.00000    1000.000000   1000.000000  1.000000e+03\n",
       "mean    500.49600   13535.525000    894.093000  3.302800e+04\n",
       "std     288.81727   28820.519135   3297.063594  9.042769e+04\n",
       "min       1.00000    1895.000000 -23119.000000  5.200000e+01\n",
       "25%     250.75000    2898.250000     82.750000  6.405250e+03\n",
       "50%     500.50000    5113.000000    282.500000  1.251950e+04\n",
       "75%     750.25000   11386.000000    784.500000  2.812500e+04\n",
       "max    1000.00000  482130.000000  53394.000000  2.300000e+06"
      ]
     },
     "execution_count": 5,
     "metadata": {},
     "output_type": "execute_result"
    }
   ],
   "source": [
    "fortune.describe()"
   ]
  },
  {
   "cell_type": "code",
   "execution_count": 6,
   "metadata": {},
   "outputs": [
    {
     "data": {
      "text/html": [
       "<div>\n",
       "<style scoped>\n",
       "    .dataframe tbody tr th:only-of-type {\n",
       "        vertical-align: middle;\n",
       "    }\n",
       "\n",
       "    .dataframe tbody tr th {\n",
       "        vertical-align: top;\n",
       "    }\n",
       "\n",
       "    .dataframe thead th {\n",
       "        text-align: right;\n",
       "    }\n",
       "</style>\n",
       "<table border=\"1\" class=\"dataframe\">\n",
       "  <thead>\n",
       "    <tr style=\"text-align: right;\">\n",
       "      <th></th>\n",
       "      <th>Rank</th>\n",
       "      <th>Company</th>\n",
       "      <th>Sector</th>\n",
       "      <th>Industry</th>\n",
       "      <th>Location</th>\n",
       "      <th>Revenue</th>\n",
       "      <th>Profits</th>\n",
       "      <th>Employees</th>\n",
       "    </tr>\n",
       "  </thead>\n",
       "  <tbody>\n",
       "    <tr>\n",
       "      <th>2</th>\n",
       "      <td>3</td>\n",
       "      <td>Apple</td>\n",
       "      <td>Technology</td>\n",
       "      <td>Computers, Office Equipment</td>\n",
       "      <td>Cupertino, CA</td>\n",
       "      <td>233715</td>\n",
       "      <td>53394</td>\n",
       "      <td>110000</td>\n",
       "    </tr>\n",
       "    <tr>\n",
       "      <th>22</th>\n",
       "      <td>23</td>\n",
       "      <td>J.P. Morgan Chase</td>\n",
       "      <td>Financials</td>\n",
       "      <td>Commercial Banks</td>\n",
       "      <td>New York, NY</td>\n",
       "      <td>101006</td>\n",
       "      <td>24442</td>\n",
       "      <td>234598</td>\n",
       "    </tr>\n",
       "    <tr>\n",
       "      <th>3</th>\n",
       "      <td>4</td>\n",
       "      <td>Berkshire Hathaway</td>\n",
       "      <td>Financials</td>\n",
       "      <td>Insurance: Property and Casualty (Stock)</td>\n",
       "      <td>Omaha, NE</td>\n",
       "      <td>210821</td>\n",
       "      <td>24083</td>\n",
       "      <td>331000</td>\n",
       "    </tr>\n",
       "    <tr>\n",
       "      <th>26</th>\n",
       "      <td>27</td>\n",
       "      <td>Wells Fargo</td>\n",
       "      <td>Financials</td>\n",
       "      <td>Commercial Banks</td>\n",
       "      <td>San Francisco, CA</td>\n",
       "      <td>90033</td>\n",
       "      <td>22894</td>\n",
       "      <td>264700</td>\n",
       "    </tr>\n",
       "    <tr>\n",
       "      <th>85</th>\n",
       "      <td>86</td>\n",
       "      <td>Gilead Sciences</td>\n",
       "      <td>Health Care</td>\n",
       "      <td>Pharmaceuticals</td>\n",
       "      <td>Foster City, CA</td>\n",
       "      <td>32639</td>\n",
       "      <td>18108</td>\n",
       "      <td>8000</td>\n",
       "    </tr>\n",
       "    <tr>\n",
       "      <th>...</th>\n",
       "      <td>...</td>\n",
       "      <td>...</td>\n",
       "      <td>...</td>\n",
       "      <td>...</td>\n",
       "      <td>...</td>\n",
       "      <td>...</td>\n",
       "      <td>...</td>\n",
       "      <td>...</td>\n",
       "    </tr>\n",
       "    <tr>\n",
       "      <th>224</th>\n",
       "      <td>225</td>\n",
       "      <td>Occidental Petroleum</td>\n",
       "      <td>Energy</td>\n",
       "      <td>Mining, Crude-Oil Production</td>\n",
       "      <td>Houston, TX</td>\n",
       "      <td>12699</td>\n",
       "      <td>-7829</td>\n",
       "      <td>11100</td>\n",
       "    </tr>\n",
       "    <tr>\n",
       "      <th>174</th>\n",
       "      <td>175</td>\n",
       "      <td>Freeport-McMoRan</td>\n",
       "      <td>Energy</td>\n",
       "      <td>Mining, Crude-Oil Production</td>\n",
       "      <td>Phoenix, AZ</td>\n",
       "      <td>15877</td>\n",
       "      <td>-12236</td>\n",
       "      <td>34500</td>\n",
       "    </tr>\n",
       "    <tr>\n",
       "      <th>215</th>\n",
       "      <td>216</td>\n",
       "      <td>Devon Energy</td>\n",
       "      <td>Energy</td>\n",
       "      <td>Mining, Crude-Oil Production</td>\n",
       "      <td>Oklahoma City, OK</td>\n",
       "      <td>13145</td>\n",
       "      <td>-14454</td>\n",
       "      <td>5167</td>\n",
       "    </tr>\n",
       "    <tr>\n",
       "      <th>222</th>\n",
       "      <td>223</td>\n",
       "      <td>Chesapeake Energy</td>\n",
       "      <td>Energy</td>\n",
       "      <td>Mining, Crude-Oil Production</td>\n",
       "      <td>Oklahoma City, OK</td>\n",
       "      <td>12764</td>\n",
       "      <td>-14685</td>\n",
       "      <td>4400</td>\n",
       "    </tr>\n",
       "    <tr>\n",
       "      <th>387</th>\n",
       "      <td>388</td>\n",
       "      <td>Apache</td>\n",
       "      <td>Energy</td>\n",
       "      <td>Mining, Crude-Oil Production</td>\n",
       "      <td>Houston, TX</td>\n",
       "      <td>6654</td>\n",
       "      <td>-23119</td>\n",
       "      <td>3860</td>\n",
       "    </tr>\n",
       "  </tbody>\n",
       "</table>\n",
       "<p>1000 rows × 8 columns</p>\n",
       "</div>"
      ],
      "text/plain": [
       "     Rank               Company       Sector  \\\n",
       "2       3                 Apple   Technology   \n",
       "22     23     J.P. Morgan Chase   Financials   \n",
       "3       4    Berkshire Hathaway   Financials   \n",
       "26     27           Wells Fargo   Financials   \n",
       "85     86       Gilead Sciences  Health Care   \n",
       "..    ...                   ...          ...   \n",
       "224   225  Occidental Petroleum       Energy   \n",
       "174   175      Freeport-McMoRan       Energy   \n",
       "215   216          Devon Energy       Energy   \n",
       "222   223     Chesapeake Energy       Energy   \n",
       "387   388                Apache       Energy   \n",
       "\n",
       "                                     Industry           Location  Revenue  \\\n",
       "2                 Computers, Office Equipment      Cupertino, CA   233715   \n",
       "22                           Commercial Banks       New York, NY   101006   \n",
       "3    Insurance: Property and Casualty (Stock)          Omaha, NE   210821   \n",
       "26                           Commercial Banks  San Francisco, CA    90033   \n",
       "85                            Pharmaceuticals    Foster City, CA    32639   \n",
       "..                                        ...                ...      ...   \n",
       "224              Mining, Crude-Oil Production        Houston, TX    12699   \n",
       "174              Mining, Crude-Oil Production        Phoenix, AZ    15877   \n",
       "215              Mining, Crude-Oil Production  Oklahoma City, OK    13145   \n",
       "222              Mining, Crude-Oil Production  Oklahoma City, OK    12764   \n",
       "387              Mining, Crude-Oil Production        Houston, TX     6654   \n",
       "\n",
       "     Profits  Employees  \n",
       "2      53394     110000  \n",
       "22     24442     234598  \n",
       "3      24083     331000  \n",
       "26     22894     264700  \n",
       "85     18108       8000  \n",
       "..       ...        ...  \n",
       "224    -7829      11100  \n",
       "174   -12236      34500  \n",
       "215   -14454       5167  \n",
       "222   -14685       4400  \n",
       "387   -23119       3860  \n",
       "\n",
       "[1000 rows x 8 columns]"
      ]
     },
     "execution_count": 6,
     "metadata": {},
     "output_type": "execute_result"
    }
   ],
   "source": [
    "fortune.sort_values(by=\"Profits\",ascending=False) #already sorted acc. to rank"
   ]
  },
  {
   "cell_type": "code",
   "execution_count": 7,
   "metadata": {},
   "outputs": [],
   "source": [
    "City=[]\n",
    "StateBased=[]\n",
    "for i in fortune.Location:\n",
    "    x=i.split(\",\")\n",
    "    if x[1] not in City :\n",
    "        City.append(x[1])\n",
    "    StateBased.append(x[1])\n",
    "    "
   ]
  },
  {
   "cell_type": "code",
   "execution_count": 8,
   "metadata": {
    "scrolled": true
   },
   "outputs": [
    {
     "data": {
      "text/plain": [
       "[' AR',\n",
       " ' TX',\n",
       " ' CA',\n",
       " ' NE',\n",
       " ' MN',\n",
       " ' RI',\n",
       " ' MI',\n",
       " ' CT',\n",
       " ' PA',\n",
       " ' NY',\n",
       " ' WA',\n",
       " ' DC',\n",
       " ' OH',\n",
       " ' IL',\n",
       " ' MO',\n",
       " ' NC',\n",
       " ' GA',\n",
       " ' IN',\n",
       " ' NJ',\n",
       " ' VA',\n",
       " ' KY',\n",
       " ' TN',\n",
       " ' MD',\n",
       " ' WI',\n",
       " ' MA',\n",
       " ' FL',\n",
       " ' OR',\n",
       " ' DE',\n",
       " ' AZ',\n",
       " ' CO',\n",
       " ' LA',\n",
       " ' OK',\n",
       " ' ID',\n",
       " ' IA',\n",
       " ' NV',\n",
       " ' KS',\n",
       " ' AL',\n",
       " ' SC',\n",
       " ' VT',\n",
       " ' ND',\n",
       " ' NH',\n",
       " ' UT',\n",
       " ' PR',\n",
       " ' MS',\n",
       " ' HI']"
      ]
     },
     "execution_count": 8,
     "metadata": {},
     "output_type": "execute_result"
    }
   ],
   "source": [
    "City"
   ]
  },
  {
   "cell_type": "code",
   "execution_count": 9,
   "metadata": {},
   "outputs": [],
   "source": [
    "fortune[\"StateBased\"]=StateBased"
   ]
  },
  {
   "cell_type": "code",
   "execution_count": 10,
   "metadata": {},
   "outputs": [
    {
     "data": {
      "text/html": [
       "<div>\n",
       "<style scoped>\n",
       "    .dataframe tbody tr th:only-of-type {\n",
       "        vertical-align: middle;\n",
       "    }\n",
       "\n",
       "    .dataframe tbody tr th {\n",
       "        vertical-align: top;\n",
       "    }\n",
       "\n",
       "    .dataframe thead th {\n",
       "        text-align: right;\n",
       "    }\n",
       "</style>\n",
       "<table border=\"1\" class=\"dataframe\">\n",
       "  <thead>\n",
       "    <tr style=\"text-align: right;\">\n",
       "      <th></th>\n",
       "      <th>Rank</th>\n",
       "      <th>Company</th>\n",
       "      <th>Sector</th>\n",
       "      <th>Industry</th>\n",
       "      <th>Location</th>\n",
       "      <th>Revenue</th>\n",
       "      <th>Profits</th>\n",
       "      <th>Employees</th>\n",
       "      <th>StateBased</th>\n",
       "    </tr>\n",
       "  </thead>\n",
       "  <tbody>\n",
       "    <tr>\n",
       "      <th>0</th>\n",
       "      <td>1</td>\n",
       "      <td>Walmart</td>\n",
       "      <td>Retailing</td>\n",
       "      <td>General Merchandisers</td>\n",
       "      <td>Bentonville, AR</td>\n",
       "      <td>482130</td>\n",
       "      <td>14694</td>\n",
       "      <td>2300000</td>\n",
       "      <td>AR</td>\n",
       "    </tr>\n",
       "    <tr>\n",
       "      <th>1</th>\n",
       "      <td>2</td>\n",
       "      <td>Exxon Mobil</td>\n",
       "      <td>Energy</td>\n",
       "      <td>Petroleum Refining</td>\n",
       "      <td>Irving, TX</td>\n",
       "      <td>246204</td>\n",
       "      <td>16150</td>\n",
       "      <td>75600</td>\n",
       "      <td>TX</td>\n",
       "    </tr>\n",
       "    <tr>\n",
       "      <th>2</th>\n",
       "      <td>3</td>\n",
       "      <td>Apple</td>\n",
       "      <td>Technology</td>\n",
       "      <td>Computers, Office Equipment</td>\n",
       "      <td>Cupertino, CA</td>\n",
       "      <td>233715</td>\n",
       "      <td>53394</td>\n",
       "      <td>110000</td>\n",
       "      <td>CA</td>\n",
       "    </tr>\n",
       "    <tr>\n",
       "      <th>3</th>\n",
       "      <td>4</td>\n",
       "      <td>Berkshire Hathaway</td>\n",
       "      <td>Financials</td>\n",
       "      <td>Insurance: Property and Casualty (Stock)</td>\n",
       "      <td>Omaha, NE</td>\n",
       "      <td>210821</td>\n",
       "      <td>24083</td>\n",
       "      <td>331000</td>\n",
       "      <td>NE</td>\n",
       "    </tr>\n",
       "    <tr>\n",
       "      <th>4</th>\n",
       "      <td>5</td>\n",
       "      <td>McKesson</td>\n",
       "      <td>Health Care</td>\n",
       "      <td>Wholesalers: Health Care</td>\n",
       "      <td>San Francisco, CA</td>\n",
       "      <td>181241</td>\n",
       "      <td>1476</td>\n",
       "      <td>70400</td>\n",
       "      <td>CA</td>\n",
       "    </tr>\n",
       "  </tbody>\n",
       "</table>\n",
       "</div>"
      ],
      "text/plain": [
       "   Rank             Company       Sector  \\\n",
       "0     1             Walmart    Retailing   \n",
       "1     2         Exxon Mobil       Energy   \n",
       "2     3               Apple   Technology   \n",
       "3     4  Berkshire Hathaway   Financials   \n",
       "4     5            McKesson  Health Care   \n",
       "\n",
       "                                   Industry           Location  Revenue  \\\n",
       "0                     General Merchandisers    Bentonville, AR   482130   \n",
       "1                        Petroleum Refining         Irving, TX   246204   \n",
       "2               Computers, Office Equipment      Cupertino, CA   233715   \n",
       "3  Insurance: Property and Casualty (Stock)          Omaha, NE   210821   \n",
       "4                  Wholesalers: Health Care  San Francisco, CA   181241   \n",
       "\n",
       "   Profits  Employees StateBased  \n",
       "0    14694    2300000         AR  \n",
       "1    16150      75600         TX  \n",
       "2    53394     110000         CA  \n",
       "3    24083     331000         NE  \n",
       "4     1476      70400         CA  "
      ]
     },
     "execution_count": 10,
     "metadata": {},
     "output_type": "execute_result"
    }
   ],
   "source": [
    "fortune.head()"
   ]
  },
  {
   "cell_type": "code",
   "execution_count": 11,
   "metadata": {},
   "outputs": [],
   "source": [
    "sector=fortune.groupby(by=[\"Sector\"])"
   ]
  },
  {
   "cell_type": "code",
   "execution_count": 12,
   "metadata": {
    "scrolled": true
   },
   "outputs": [
    {
     "data": {
      "text/plain": [
       "{'Aerospace & Defense': Int64Index([ 23,  44,  59,  87, 117, 119, 208, 244, 281, 377, 388, 489, 559,\n",
       "             604, 784, 787, 835, 902, 957, 986],\n",
       "            dtype='int64'),\n",
       " 'Apparel': Int64Index([90, 230, 339, 353, 447, 546, 574, 596, 682, 694, 725, 793, 876,\n",
       "             881, 916],\n",
       "            dtype='int64'),\n",
       " 'Business Services': Int64Index([143, 185, 198, 203, 220, 247, 248, 293, 306, 311, 354, 391, 403,\n",
       "             439, 466, 467, 480, 484, 491, 502, 544, 625, 634, 651, 676, 693,\n",
       "             713, 728, 733, 734, 736, 743, 766, 775, 776, 782, 790, 791, 795,\n",
       "             800, 802, 815, 818, 819, 868, 869, 885, 938, 950, 951, 992],\n",
       "            dtype='int64'),\n",
       " 'Chemicals': Int64Index([ 55, 100, 181, 188, 205, 252, 261, 276, 287, 295, 315, 537, 548,\n",
       "             554, 565, 579, 612, 623, 653, 667, 716, 719, 723, 757, 760, 828,\n",
       "             864, 897, 933, 948],\n",
       "            dtype='int64'),\n",
       " 'Energy': Int64Index([  1,  13,  29,  31,  41,  64,  89,  94,  97, 103,\n",
       "             ...\n",
       "             952, 954, 961, 965, 979, 980, 982, 994, 996, 997],\n",
       "            dtype='int64', length=122),\n",
       " 'Engineering & Construction': Int64Index([154, 155, 234, 259, 300, 313, 351, 380, 432, 477, 497, 500, 515,\n",
       "             571, 575, 639, 718, 737, 821, 862, 873, 891, 928, 962, 984, 993],\n",
       "            dtype='int64'),\n",
       " 'Financials': Int64Index([  3,  15,  22,  25,  26,  28,  34,  39,  42,  48,\n",
       "             ...\n",
       "             919, 922, 924, 925, 935, 937, 958, 975, 987, 995],\n",
       "            dtype='int64', length=139),\n",
       " 'Food and Drug Stores': Int64Index([6, 16, 18, 86, 106, 159, 180, 594, 613, 630, 668, 755, 808, 848,\n",
       "             927],\n",
       "            dtype='int64'),\n",
       " 'Food, Beverages & Tobacco': Int64Index([ 40,  43,  61,  65,  83,  93, 105, 148, 152, 160, 175, 206, 214,\n",
       "             241, 265, 303, 335, 336, 361, 396, 412, 428, 451, 455, 459, 534,\n",
       "             541, 566, 573, 586, 607, 614, 635, 663, 685, 701, 769, 786, 794,\n",
       "             803, 888, 901, 953],\n",
       "            dtype='int64'),\n",
       " 'Health Care': Int64Index([  4,   5,  11,  20,  21,  32,  38,  45,  51,  54,  62,  71,  78,\n",
       "              85, 122, 123, 124, 129, 137, 139, 140, 167, 171, 199, 200, 201,\n",
       "             262, 267, 277, 285, 286, 289, 290, 304, 324, 357, 358, 371, 419,\n",
       "             429, 430, 446, 456, 464, 468, 514, 526, 536, 552, 558, 582, 617,\n",
       "             628, 660, 683, 692, 696, 707, 745, 748, 765, 774, 789, 798, 814,\n",
       "             817, 844, 867, 880, 882, 934, 959, 964, 976, 977],\n",
       "            dtype='int64'),\n",
       " 'Hotels, Resturants & Leisure': Int64Index([108, 145, 194, 217, 240, 253, 308, 370, 443, 465, 533, 545, 556,\n",
       "             561, 584, 730, 762, 763, 778, 796, 894, 914, 917, 940, 998],\n",
       "            dtype='int64'),\n",
       " 'Household Products': Int64Index([ 33, 150, 173, 255, 260, 327, 337, 344, 369, 433, 440, 449, 454,\n",
       "             532, 549, 553, 600, 664, 698, 715, 855, 889, 899, 906, 931, 949,\n",
       "             966, 991],\n",
       "            dtype='int64'),\n",
       " 'Industrials': Int64Index([ 10,  58,  74,  92,  96, 127, 133, 147, 210, 223, 359, 376, 395,\n",
       "             411, 418, 538, 543, 595, 621, 622, 629, 644, 654, 657, 665, 673,\n",
       "             689, 756, 781, 788, 805, 812, 822, 830, 831, 834, 840, 846, 865,\n",
       "             866, 872, 886, 941, 946, 963, 999],\n",
       "            dtype='int64'),\n",
       " 'Materials': Int64Index([125, 126, 169, 243, 250, 302, 320, 340, 355, 372, 374, 382, 416,\n",
       "             417, 425, 434, 445, 479, 488, 513, 517, 576, 585, 615, 616, 619,\n",
       "             624, 627, 636, 638, 640, 659, 666, 686, 690, 750, 773, 792, 856,\n",
       "             884, 910, 981, 985],\n",
       "            dtype='int64'),\n",
       " 'Media': Int64Index([ 52,  95,  98, 202, 212, 254, 326, 365, 405, 413, 524, 529, 680,\n",
       "             704, 706, 721, 740, 751, 758, 761, 820, 912, 967, 968, 988],\n",
       "            dtype='int64'),\n",
       " 'Motor Vehicles & Parts': Int64Index([  7,   8,  69, 146, 153, 168, 280, 309, 333, 338, 423, 427, 469,\n",
       "             587, 590, 603, 646, 669, 717, 738, 810, 956, 960, 978],\n",
       "            dtype='int64'),\n",
       " 'Retailing': Int64Index([  0,  14,  27,  37,  46,  70,  88, 102, 110, 131, 135, 138, 142,\n",
       "             144, 176, 179, 190, 195, 196, 227, 233, 236, 237, 239, 257, 266,\n",
       "             268, 279, 292, 296, 298, 301, 329, 341, 345, 360, 364, 373, 378,\n",
       "             379, 392, 414, 426, 438, 494, 499, 501, 510, 511, 516, 522, 581,\n",
       "             591, 601, 606, 609, 620, 642, 643, 647, 656, 674, 688, 720, 747,\n",
       "             770, 772, 806, 811, 823, 824, 826, 839, 875, 893, 898, 921, 936,\n",
       "             939, 972],\n",
       "            dtype='int64'),\n",
       " 'Technology': Int64Index([  2,  17,  19,  24,  30,  35,  50,  53,  76, 109,\n",
       "             ...\n",
       "             930, 942, 943, 945, 955, 969, 970, 974, 983, 989],\n",
       "            dtype='int64', length=102),\n",
       " 'Telecommunications': Int64Index([9, 12, 36, 115, 158, 186, 291, 332, 398, 442, 460, 495, 525, 618,\n",
       "             785],\n",
       "            dtype='int64'),\n",
       " 'Transportation': Int64Index([ 47,  57,  66,  67,  79, 128, 141, 207, 238, 269, 352, 389, 394,\n",
       "             404, 406, 415, 431, 458, 520, 527, 569, 577, 641, 671, 708, 712,\n",
       "             739, 799, 813, 857, 883, 929, 932, 944, 971, 973],\n",
       "            dtype='int64'),\n",
       " 'Wholesalers': Int64Index([ 56,  63,  91, 101, 107, 118, 121, 166, 182, 184, 211, 275, 284,\n",
       "             314, 316, 319, 322, 334, 350, 356, 368, 390, 422, 462, 473, 476,\n",
       "             483, 563, 580, 598, 626, 652, 684, 726, 746, 779, 807, 836, 874,\n",
       "             990],\n",
       "            dtype='int64')}"
      ]
     },
     "execution_count": 12,
     "metadata": {},
     "output_type": "execute_result"
    }
   ],
   "source": [
    "sector.groups"
   ]
  },
  {
   "cell_type": "code",
   "execution_count": 13,
   "metadata": {
    "scrolled": true
   },
   "outputs": [
    {
     "data": {
      "text/html": [
       "<div>\n",
       "<style scoped>\n",
       "    .dataframe tbody tr th:only-of-type {\n",
       "        vertical-align: middle;\n",
       "    }\n",
       "\n",
       "    .dataframe tbody tr th {\n",
       "        vertical-align: top;\n",
       "    }\n",
       "\n",
       "    .dataframe thead th {\n",
       "        text-align: right;\n",
       "    }\n",
       "</style>\n",
       "<table border=\"1\" class=\"dataframe\">\n",
       "  <thead>\n",
       "    <tr style=\"text-align: right;\">\n",
       "      <th></th>\n",
       "      <th>Rank</th>\n",
       "      <th>Company</th>\n",
       "      <th>Industry</th>\n",
       "      <th>Location</th>\n",
       "      <th>Revenue</th>\n",
       "      <th>Profits</th>\n",
       "      <th>Employees</th>\n",
       "      <th>StateBased</th>\n",
       "    </tr>\n",
       "    <tr>\n",
       "      <th>Sector</th>\n",
       "      <th></th>\n",
       "      <th></th>\n",
       "      <th></th>\n",
       "      <th></th>\n",
       "      <th></th>\n",
       "      <th></th>\n",
       "      <th></th>\n",
       "      <th></th>\n",
       "    </tr>\n",
       "  </thead>\n",
       "  <tbody>\n",
       "    <tr>\n",
       "      <th>Aerospace &amp; Defense</th>\n",
       "      <td>24</td>\n",
       "      <td>Boeing</td>\n",
       "      <td>Aerospace and Defense</td>\n",
       "      <td>Chicago, IL</td>\n",
       "      <td>96114</td>\n",
       "      <td>5176</td>\n",
       "      <td>161400</td>\n",
       "      <td>IL</td>\n",
       "    </tr>\n",
       "    <tr>\n",
       "      <th>Apparel</th>\n",
       "      <td>91</td>\n",
       "      <td>Nike</td>\n",
       "      <td>Apparel</td>\n",
       "      <td>Beaverton, OR</td>\n",
       "      <td>30601</td>\n",
       "      <td>3273</td>\n",
       "      <td>62600</td>\n",
       "      <td>OR</td>\n",
       "    </tr>\n",
       "    <tr>\n",
       "      <th>Business Services</th>\n",
       "      <td>144</td>\n",
       "      <td>ManpowerGroup</td>\n",
       "      <td>Temporary Help</td>\n",
       "      <td>Milwaukee, WI</td>\n",
       "      <td>19330</td>\n",
       "      <td>419</td>\n",
       "      <td>27000</td>\n",
       "      <td>WI</td>\n",
       "    </tr>\n",
       "    <tr>\n",
       "      <th>Chemicals</th>\n",
       "      <td>56</td>\n",
       "      <td>Dow Chemical</td>\n",
       "      <td>Chemicals</td>\n",
       "      <td>Midland, MI</td>\n",
       "      <td>48778</td>\n",
       "      <td>7685</td>\n",
       "      <td>49495</td>\n",
       "      <td>MI</td>\n",
       "    </tr>\n",
       "    <tr>\n",
       "      <th>Energy</th>\n",
       "      <td>2</td>\n",
       "      <td>Exxon Mobil</td>\n",
       "      <td>Petroleum Refining</td>\n",
       "      <td>Irving, TX</td>\n",
       "      <td>246204</td>\n",
       "      <td>16150</td>\n",
       "      <td>75600</td>\n",
       "      <td>TX</td>\n",
       "    </tr>\n",
       "    <tr>\n",
       "      <th>Engineering &amp; Construction</th>\n",
       "      <td>155</td>\n",
       "      <td>Fluor</td>\n",
       "      <td>Engineering, Construction</td>\n",
       "      <td>Irving, TX</td>\n",
       "      <td>18114</td>\n",
       "      <td>413</td>\n",
       "      <td>38758</td>\n",
       "      <td>TX</td>\n",
       "    </tr>\n",
       "    <tr>\n",
       "      <th>Financials</th>\n",
       "      <td>4</td>\n",
       "      <td>Berkshire Hathaway</td>\n",
       "      <td>Insurance: Property and Casualty (Stock)</td>\n",
       "      <td>Omaha, NE</td>\n",
       "      <td>210821</td>\n",
       "      <td>24083</td>\n",
       "      <td>331000</td>\n",
       "      <td>NE</td>\n",
       "    </tr>\n",
       "    <tr>\n",
       "      <th>Food and Drug Stores</th>\n",
       "      <td>7</td>\n",
       "      <td>CVS Health</td>\n",
       "      <td>Food and Drug Stores</td>\n",
       "      <td>Woonsocket, RI</td>\n",
       "      <td>153290</td>\n",
       "      <td>5237</td>\n",
       "      <td>199000</td>\n",
       "      <td>RI</td>\n",
       "    </tr>\n",
       "    <tr>\n",
       "      <th>Food, Beverages &amp; Tobacco</th>\n",
       "      <td>41</td>\n",
       "      <td>Archer Daniels Midland</td>\n",
       "      <td>Food Production</td>\n",
       "      <td>Chicago, IL</td>\n",
       "      <td>67702</td>\n",
       "      <td>1849</td>\n",
       "      <td>32300</td>\n",
       "      <td>IL</td>\n",
       "    </tr>\n",
       "    <tr>\n",
       "      <th>Health Care</th>\n",
       "      <td>5</td>\n",
       "      <td>McKesson</td>\n",
       "      <td>Wholesalers: Health Care</td>\n",
       "      <td>San Francisco, CA</td>\n",
       "      <td>181241</td>\n",
       "      <td>1476</td>\n",
       "      <td>70400</td>\n",
       "      <td>CA</td>\n",
       "    </tr>\n",
       "    <tr>\n",
       "      <th>Hotels, Resturants &amp; Leisure</th>\n",
       "      <td>109</td>\n",
       "      <td>McDonald’s</td>\n",
       "      <td>Food Services</td>\n",
       "      <td>Oak Brook, IL</td>\n",
       "      <td>25413</td>\n",
       "      <td>4529</td>\n",
       "      <td>420000</td>\n",
       "      <td>IL</td>\n",
       "    </tr>\n",
       "    <tr>\n",
       "      <th>Household Products</th>\n",
       "      <td>34</td>\n",
       "      <td>Procter &amp; Gamble</td>\n",
       "      <td>Household and Personal Products</td>\n",
       "      <td>Cincinnati, OH</td>\n",
       "      <td>78756</td>\n",
       "      <td>7036</td>\n",
       "      <td>110000</td>\n",
       "      <td>OH</td>\n",
       "    </tr>\n",
       "    <tr>\n",
       "      <th>Industrials</th>\n",
       "      <td>11</td>\n",
       "      <td>General Electric</td>\n",
       "      <td>Industrial Machinery</td>\n",
       "      <td>Fairfield, CT</td>\n",
       "      <td>140389</td>\n",
       "      <td>-6126</td>\n",
       "      <td>333000</td>\n",
       "      <td>CT</td>\n",
       "    </tr>\n",
       "    <tr>\n",
       "      <th>Materials</th>\n",
       "      <td>126</td>\n",
       "      <td>Alcoa</td>\n",
       "      <td>Metals</td>\n",
       "      <td>New York, NY</td>\n",
       "      <td>22534</td>\n",
       "      <td>-322</td>\n",
       "      <td>60000</td>\n",
       "      <td>NY</td>\n",
       "    </tr>\n",
       "    <tr>\n",
       "      <th>Media</th>\n",
       "      <td>53</td>\n",
       "      <td>Disney</td>\n",
       "      <td>Entertainment</td>\n",
       "      <td>Burbank, CA</td>\n",
       "      <td>52465</td>\n",
       "      <td>8382</td>\n",
       "      <td>185000</td>\n",
       "      <td>CA</td>\n",
       "    </tr>\n",
       "    <tr>\n",
       "      <th>Motor Vehicles &amp; Parts</th>\n",
       "      <td>8</td>\n",
       "      <td>General Motors</td>\n",
       "      <td>Motor Vehicles and Parts</td>\n",
       "      <td>Detroit, MI</td>\n",
       "      <td>152356</td>\n",
       "      <td>9687</td>\n",
       "      <td>215000</td>\n",
       "      <td>MI</td>\n",
       "    </tr>\n",
       "    <tr>\n",
       "      <th>Retailing</th>\n",
       "      <td>1</td>\n",
       "      <td>Walmart</td>\n",
       "      <td>General Merchandisers</td>\n",
       "      <td>Bentonville, AR</td>\n",
       "      <td>482130</td>\n",
       "      <td>14694</td>\n",
       "      <td>2300000</td>\n",
       "      <td>AR</td>\n",
       "    </tr>\n",
       "    <tr>\n",
       "      <th>Technology</th>\n",
       "      <td>3</td>\n",
       "      <td>Apple</td>\n",
       "      <td>Computers, Office Equipment</td>\n",
       "      <td>Cupertino, CA</td>\n",
       "      <td>233715</td>\n",
       "      <td>53394</td>\n",
       "      <td>110000</td>\n",
       "      <td>CA</td>\n",
       "    </tr>\n",
       "    <tr>\n",
       "      <th>Telecommunications</th>\n",
       "      <td>10</td>\n",
       "      <td>AT&amp;T</td>\n",
       "      <td>Telecommunications</td>\n",
       "      <td>Dallas, TX</td>\n",
       "      <td>146801</td>\n",
       "      <td>13345</td>\n",
       "      <td>281450</td>\n",
       "      <td>TX</td>\n",
       "    </tr>\n",
       "    <tr>\n",
       "      <th>Transportation</th>\n",
       "      <td>48</td>\n",
       "      <td>UPS</td>\n",
       "      <td>Mail, Package, and Freight Delivery</td>\n",
       "      <td>Atlanta, GA</td>\n",
       "      <td>58363</td>\n",
       "      <td>4844</td>\n",
       "      <td>341240</td>\n",
       "      <td>GA</td>\n",
       "    </tr>\n",
       "    <tr>\n",
       "      <th>Wholesalers</th>\n",
       "      <td>57</td>\n",
       "      <td>Sysco</td>\n",
       "      <td>Wholesalers: Food and Grocery</td>\n",
       "      <td>Houston, TX</td>\n",
       "      <td>48681</td>\n",
       "      <td>687</td>\n",
       "      <td>51700</td>\n",
       "      <td>TX</td>\n",
       "    </tr>\n",
       "  </tbody>\n",
       "</table>\n",
       "</div>"
      ],
      "text/plain": [
       "                              Rank                 Company  \\\n",
       "Sector                                                       \n",
       "Aerospace & Defense             24                  Boeing   \n",
       "Apparel                         91                    Nike   \n",
       "Business Services              144           ManpowerGroup   \n",
       "Chemicals                       56            Dow Chemical   \n",
       "Energy                           2             Exxon Mobil   \n",
       "Engineering & Construction     155                   Fluor   \n",
       "Financials                       4      Berkshire Hathaway   \n",
       "Food and Drug Stores             7              CVS Health   \n",
       "Food, Beverages & Tobacco       41  Archer Daniels Midland   \n",
       "Health Care                      5                McKesson   \n",
       "Hotels, Resturants & Leisure   109              McDonald’s   \n",
       "Household Products              34        Procter & Gamble   \n",
       "Industrials                     11        General Electric   \n",
       "Materials                      126                   Alcoa   \n",
       "Media                           53                  Disney   \n",
       "Motor Vehicles & Parts           8          General Motors   \n",
       "Retailing                        1                 Walmart   \n",
       "Technology                       3                   Apple   \n",
       "Telecommunications              10                    AT&T   \n",
       "Transportation                  48                     UPS   \n",
       "Wholesalers                     57                   Sysco   \n",
       "\n",
       "                                                              Industry  \\\n",
       "Sector                                                                   \n",
       "Aerospace & Defense                              Aerospace and Defense   \n",
       "Apparel                                                        Apparel   \n",
       "Business Services                                       Temporary Help   \n",
       "Chemicals                                                    Chemicals   \n",
       "Energy                                              Petroleum Refining   \n",
       "Engineering & Construction                   Engineering, Construction   \n",
       "Financials                    Insurance: Property and Casualty (Stock)   \n",
       "Food and Drug Stores                              Food and Drug Stores   \n",
       "Food, Beverages & Tobacco                              Food Production   \n",
       "Health Care                                   Wholesalers: Health Care   \n",
       "Hotels, Resturants & Leisure                             Food Services   \n",
       "Household Products                     Household and Personal Products   \n",
       "Industrials                                       Industrial Machinery   \n",
       "Materials                                                       Metals   \n",
       "Media                                                    Entertainment   \n",
       "Motor Vehicles & Parts                        Motor Vehicles and Parts   \n",
       "Retailing                                        General Merchandisers   \n",
       "Technology                                 Computers, Office Equipment   \n",
       "Telecommunications                                  Telecommunications   \n",
       "Transportation                     Mail, Package, and Freight Delivery   \n",
       "Wholesalers                              Wholesalers: Food and Grocery   \n",
       "\n",
       "                                       Location  Revenue  Profits  Employees  \\\n",
       "Sector                                                                         \n",
       "Aerospace & Defense                 Chicago, IL    96114     5176     161400   \n",
       "Apparel                           Beaverton, OR    30601     3273      62600   \n",
       "Business Services                 Milwaukee, WI    19330      419      27000   \n",
       "Chemicals                           Midland, MI    48778     7685      49495   \n",
       "Energy                               Irving, TX   246204    16150      75600   \n",
       "Engineering & Construction           Irving, TX    18114      413      38758   \n",
       "Financials                            Omaha, NE   210821    24083     331000   \n",
       "Food and Drug Stores             Woonsocket, RI   153290     5237     199000   \n",
       "Food, Beverages & Tobacco           Chicago, IL    67702     1849      32300   \n",
       "Health Care                   San Francisco, CA   181241     1476      70400   \n",
       "Hotels, Resturants & Leisure      Oak Brook, IL    25413     4529     420000   \n",
       "Household Products               Cincinnati, OH    78756     7036     110000   \n",
       "Industrials                       Fairfield, CT   140389    -6126     333000   \n",
       "Materials                          New York, NY    22534     -322      60000   \n",
       "Media                               Burbank, CA    52465     8382     185000   \n",
       "Motor Vehicles & Parts              Detroit, MI   152356     9687     215000   \n",
       "Retailing                       Bentonville, AR   482130    14694    2300000   \n",
       "Technology                        Cupertino, CA   233715    53394     110000   \n",
       "Telecommunications                   Dallas, TX   146801    13345     281450   \n",
       "Transportation                      Atlanta, GA    58363     4844     341240   \n",
       "Wholesalers                         Houston, TX    48681      687      51700   \n",
       "\n",
       "                             StateBased  \n",
       "Sector                                   \n",
       "Aerospace & Defense                  IL  \n",
       "Apparel                              OR  \n",
       "Business Services                    WI  \n",
       "Chemicals                            MI  \n",
       "Energy                               TX  \n",
       "Engineering & Construction           TX  \n",
       "Financials                           NE  \n",
       "Food and Drug Stores                 RI  \n",
       "Food, Beverages & Tobacco            IL  \n",
       "Health Care                          CA  \n",
       "Hotels, Resturants & Leisure         IL  \n",
       "Household Products                   OH  \n",
       "Industrials                          CT  \n",
       "Materials                            NY  \n",
       "Media                                CA  \n",
       "Motor Vehicles & Parts               MI  \n",
       "Retailing                            AR  \n",
       "Technology                           CA  \n",
       "Telecommunications                   TX  \n",
       "Transportation                       GA  \n",
       "Wholesalers                          TX  "
      ]
     },
     "execution_count": 13,
     "metadata": {},
     "output_type": "execute_result"
    }
   ],
   "source": [
    "sector.first()"
   ]
  },
  {
   "cell_type": "code",
   "execution_count": 14,
   "metadata": {},
   "outputs": [
    {
     "data": {
      "text/plain": [
       "Index(['Aerospace & Defense', 'Apparel', 'Business Services', 'Chemicals',\n",
       "       'Energy', 'Engineering & Construction', 'Financials',\n",
       "       'Food and Drug Stores', 'Food, Beverages & Tobacco', 'Health Care',\n",
       "       'Hotels, Resturants & Leisure', 'Household Products', 'Industrials',\n",
       "       'Materials', 'Media', 'Motor Vehicles & Parts', 'Retailing',\n",
       "       'Technology', 'Telecommunications', 'Transportation', 'Wholesalers'],\n",
       "      dtype='object', name='Sector')"
      ]
     },
     "execution_count": 14,
     "metadata": {},
     "output_type": "execute_result"
    }
   ],
   "source": [
    "y=sector.size()\n",
    "y.index"
   ]
  },
  {
   "cell_type": "code",
   "execution_count": 15,
   "metadata": {},
   "outputs": [
    {
     "name": "stdout",
     "output_type": "stream",
     "text": [
      "['Solarize_Light2', '_classic_test_patch', 'bmh', 'classic', 'dark_background', 'fast', 'fivethirtyeight', 'ggplot', 'grayscale', 'seaborn', 'seaborn-bright', 'seaborn-colorblind', 'seaborn-dark', 'seaborn-dark-palette', 'seaborn-darkgrid', 'seaborn-deep', 'seaborn-muted', 'seaborn-notebook', 'seaborn-paper', 'seaborn-pastel', 'seaborn-poster', 'seaborn-talk', 'seaborn-ticks', 'seaborn-white', 'seaborn-whitegrid', 'tableau-colorblind10']\n"
     ]
    }
   ],
   "source": [
    "print(plt.style.available)"
   ]
  },
  {
   "cell_type": "code",
   "execution_count": 16,
   "metadata": {},
   "outputs": [
    {
     "data": {
      "text/plain": [
       "Text(0.5, 0, 'No. of Companies')"
      ]
     },
     "execution_count": 16,
     "metadata": {},
     "output_type": "execute_result"
    },
    {
     "data": {
      "image/png": "[encoded data removed]",
      "text/plain": [
       "<Figure size 720x360 with 1 Axes>"
      ]
     },
     "metadata": {},
     "output_type": "display_data"
    }
   ],
   "source": [
    "plt.style.use('fivethirtyeight')\n",
    "plt.figure(figsize=(10,5))\n",
    "\n",
    "plt.barh(y.index,y,color=\"Blue\")\n",
    "plt.title(\"No. of Fortune1000 Companies in each Sector\" , fontdict={\"color\":\"Red\",\"fontsize\":20})\n",
    "plt.xlabel(\"No. of Companies\",fontdict={\"color\":\"Black\",\"fontsize\":14})\n"
   ]
  },
  {
   "cell_type": "code",
   "execution_count": 17,
   "metadata": {
    "scrolled": true
   },
   "outputs": [
    {
     "data": {
      "text/plain": [
       "Sector\n",
       "Financials                      2217159\n",
       "Health Care                     1614707\n",
       "Energy                          1517809\n",
       "Retailing                       1465076\n",
       "Technology                      1377600\n",
       "Food, Beverages & Tobacco        555967\n",
       "Industrials                      497581\n",
       "Food and Drug Stores             483769\n",
       "Motor Vehicles & Parts           482540\n",
       "Telecommunications               461834\n",
       "Wholesalers                      444800\n",
       "Transportation                   408508\n",
       "Aerospace & Defense              357940\n",
       "Business Services                272195\n",
       "Materials                        259145\n",
       "Chemicals                        243897\n",
       "Household Products               234737\n",
       "Media                            220764\n",
       "Hotels, Resturants & Leisure     169546\n",
       "Engineering & Construction       153983\n",
       "Apparel                           95968\n",
       "Name: Revenue, dtype: int64"
      ]
     },
     "execution_count": 17,
     "metadata": {},
     "output_type": "execute_result"
    }
   ],
   "source": [
    "sector.Revenue.sum().sort_values(ascending=False) #Revenue of each Sector"
   ]
  },
  {
   "cell_type": "code",
   "execution_count": 18,
   "metadata": {
    "scrolled": true
   },
   "outputs": [
    {
     "data": {
      "text/plain": [
       "Sector\n",
       "Financials                      260209\n",
       "Technology                      180473\n",
       "Health Care                     106114\n",
       "Food, Beverages & Tobacco        51417\n",
       "Telecommunications               48637\n",
       "Retailing                        47830\n",
       "Transportation                   44169\n",
       "Aerospace & Defense              28742\n",
       "Business Services                28227\n",
       "Motor Vehicles & Parts           25898\n",
       "Media                            24347\n",
       "Chemicals                        22628\n",
       "Industrials                      20764\n",
       "Hotels, Resturants & Leisure     20697\n",
       "Food and Drug Stores             16759\n",
       "Household Products               14428\n",
       "Apparel                           8236\n",
       "Wholesalers                       8233\n",
       "Engineering & Construction        5304\n",
       "Materials                         4428\n",
       "Energy                          -73447\n",
       "Name: Profits, dtype: int64"
      ]
     },
     "execution_count": 18,
     "metadata": {},
     "output_type": "execute_result"
    }
   ],
   "source": [
    "sector.Profits.sum().sort_values(ascending=False)"
   ]
  },
  {
   "cell_type": "code",
   "execution_count": 19,
   "metadata": {
    "scrolled": true
   },
   "outputs": [
    {
     "data": {
      "text/plain": [
       "Sector\n",
       "Hotels, Resturants & Leisure    99369.800000\n",
       "Food and Drug Stores            93026.533333\n",
       "Retailing                       77845.362500\n",
       "Telecommunications              55497.866667\n",
       "Aerospace & Defense             48402.850000\n",
       "Motor Vehicles & Parts          45106.666667\n",
       "Transportation                  42688.694444\n",
       "Health Care                     35710.520000\n",
       "Technology                      35087.735294\n",
       "Industrials                     33591.934783\n",
       "Food, Beverages & Tobacco       28177.488372\n",
       "Business Services               26687.254902\n",
       "Financials                      24172.287770\n",
       "Apparel                         23093.133333\n",
       "Household Products              23072.785714\n",
       "Media                           22012.560000\n",
       "Engineering & Construction      15642.615385\n",
       "Chemicals                       15455.033333\n",
       "Materials                       14840.069767\n",
       "Wholesalers                     13139.925000\n",
       "Energy                           9745.303279\n",
       "Name: Employees, dtype: float64"
      ]
     },
     "execution_count": 19,
     "metadata": {},
     "output_type": "execute_result"
    }
   ],
   "source": [
    "sector.Employees.mean().sort_values(ascending=False)"
   ]
  },
  {
   "cell_type": "code",
   "execution_count": 20,
   "metadata": {
    "scrolled": true
   },
   "outputs": [
    {
     "data": {
      "text/plain": [
       "Sector\n",
       "Aerospace & Defense             6955\n",
       "Apparel                         5978\n",
       "Business Services               2400\n",
       "Chemicals                       1979\n",
       "Energy                           480\n",
       "Engineering & Construction      1036\n",
       "Financials                       187\n",
       "Food and Drug Stores            1616\n",
       "Food, Beverages & Tobacco       1857\n",
       "Health Care                     2924\n",
       "Hotels, Resturants & Leisure    8500\n",
       "Household Products              4406\n",
       "Industrials                     4104\n",
       "Materials                         52\n",
       "Media                           2341\n",
       "Motor Vehicles & Parts          2700\n",
       "Retailing                       2155\n",
       "Technology                      2285\n",
       "Telecommunications              2700\n",
       "Transportation                  1223\n",
       "Wholesalers                      500\n",
       "Name: Employees, dtype: int64"
      ]
     },
     "execution_count": 20,
     "metadata": {},
     "output_type": "execute_result"
    }
   ],
   "source": [
    "sector.Employees.min()"
   ]
  },
  {
   "cell_type": "code",
   "execution_count": 21,
   "metadata": {},
   "outputs": [],
   "source": [
    "Industry=fortune.groupby(by=['Industry'])"
   ]
  },
  {
   "cell_type": "code",
   "execution_count": 22,
   "metadata": {},
   "outputs": [
    {
     "data": {
      "text/plain": [
       "73"
      ]
     },
     "execution_count": 22,
     "metadata": {},
     "output_type": "execute_result"
    }
   ],
   "source": [
    "Industry.ngroups"
   ]
  },
  {
   "cell_type": "code",
   "execution_count": 23,
   "metadata": {
    "scrolled": true
   },
   "outputs": [
    {
     "data": {
      "text/plain": [
       "Industry\n",
       "Advertising, marketing                            2\n",
       "Aerospace and Defense                            20\n",
       "Airlines                                          9\n",
       "Apparel                                          15\n",
       "Automotive Retailing, Services                   10\n",
       "                                                 ..\n",
       "Waste Management                                  5\n",
       "Wholesalers: Diversified                         25\n",
       "Wholesalers: Electronics and Office Equipment     8\n",
       "Wholesalers: Food and Grocery                     6\n",
       "Wholesalers: Health Care                          6\n",
       "Length: 73, dtype: int64"
      ]
     },
     "execution_count": 23,
     "metadata": {},
     "output_type": "execute_result"
    }
   ],
   "source": [
    "Industry.size()"
   ]
  },
  {
   "cell_type": "code",
   "execution_count": 24,
   "metadata": {
    "scrolled": true
   },
   "outputs": [
    {
     "data": {
      "text/plain": [
       "Index(['Advertising, marketing', 'Aerospace and Defense', 'Airlines',\n",
       "       'Apparel', 'Automotive Retailing, Services', 'Beverages',\n",
       "       'Building Materials, Glass', 'Chemicals', 'Commercial Banks',\n",
       "       'Computer Peripherals', 'Computer Software',\n",
       "       'Computers, Office Equipment', 'Construction and Farm Machinery',\n",
       "       'Diversified Financials', 'Diversified Outsourcing Services',\n",
       "       'Education', 'Electronics, Electrical Equip.', 'Energy',\n",
       "       'Engineering, Construction', 'Entertainment', 'Financial Data Services',\n",
       "       'Food Consumer Products', 'Food Production', 'Food Services',\n",
       "       'Food and Drug Stores', 'Forest and Paper Products',\n",
       "       'General Merchandisers', 'Health Care: Insurance and Managed Care',\n",
       "       'Health Care: Medical Facilities',\n",
       "       'Health Care: Pharmacy and Other Services',\n",
       "       'Home Equipment, Furnishings', 'Homebuilders',\n",
       "       'Hotels, Casinos, Resorts', 'Household and Personal Products',\n",
       "       'Industrial Machinery', 'Information Technology Services',\n",
       "       'Insurance: Life, Health (Mutual)', 'Insurance: Life, Health (stock)',\n",
       "       'Insurance: Property and Casualty (Mutual)',\n",
       "       'Insurance: Property and Casualty (Stock)',\n",
       "       'Internet Services and Retailing',\n",
       "       'Mail, Package, and Freight Delivery', 'Medical Products and Equipment',\n",
       "       'Metals', 'Mining, Crude-Oil Production', 'Miscellaneous',\n",
       "       'Motor Vehicles and Parts',\n",
       "       'Network and Other Communications Equipment',\n",
       "       'Oil and Gas Equipment, Services', 'Packaging, Containers',\n",
       "       'Petroleum Refining', 'Pharmaceuticals', 'Pipelines',\n",
       "       'Publishing, Printing', 'Railroads', 'Real estate',\n",
       "       'Scientific,Photographic and Control Equipment', 'Securities',\n",
       "       'Semiconductors and Other Electronic Components',\n",
       "       'Specialty Retailers: Apparel', 'Specialty Retailers: Other',\n",
       "       'Telecommunications', 'Temporary Help', 'Tobacco',\n",
       "       'Transportation Equipment', 'Transportation and Logistics',\n",
       "       'Trucking, Truck Leasing', 'Utilities: Gas and Electric',\n",
       "       'Waste Management', 'Wholesalers: Diversified',\n",
       "       'Wholesalers: Electronics and Office Equipment',\n",
       "       'Wholesalers: Food and Grocery', 'Wholesalers: Health Care'],\n",
       "      dtype='object', name='Industry')"
      ]
     },
     "execution_count": 24,
     "metadata": {},
     "output_type": "execute_result"
    }
   ],
   "source": [
    "Industry.size().index"
   ]
  },
  {
   "cell_type": "code",
   "execution_count": 25,
   "metadata": {},
   "outputs": [
    {
     "data": {
      "text/plain": [
       "Industry\n",
       "Commercial Banks                            129760\n",
       "Pharmaceuticals                              68273\n",
       "Computers, Office Equipment                  58433\n",
       "Telecommunications                           48637\n",
       "Insurance: Property and Casualty (Stock)     44803\n",
       "                                             ...  \n",
       "Publishing, Printing                         -1339\n",
       "Metals                                       -2241\n",
       "Oil and Gas Equipment, Services              -4047\n",
       "Energy                                      -13038\n",
       "Mining, Crude-Oil Production               -124555\n",
       "Name: Profits, Length: 73, dtype: int64"
      ]
     },
     "execution_count": 25,
     "metadata": {},
     "output_type": "execute_result"
    }
   ],
   "source": [
    "Industry.Profits.sum().sort_values(ascending=False)"
   ]
  },
  {
   "cell_type": "code",
   "execution_count": 26,
   "metadata": {},
   "outputs": [],
   "source": [
    "TopIndustry=Industry.Revenue.sum().sort_values(ascending=False).head(15)"
   ]
  },
  {
   "cell_type": "code",
   "execution_count": 27,
   "metadata": {},
   "outputs": [
    {
     "data": {
      "text/plain": [
       "Industry\n",
       "Petroleum Refining                          705472\n",
       "General Merchandisers                       684320\n",
       "Commercial Banks                            623669\n",
       "Insurance: Property and Casualty (Stock)    548027\n",
       "Specialty Retailers: Other                  543958\n",
       "Food and Drug Stores                        483769\n",
       "Motor Vehicles and Parts                    482540\n",
       "Health Care: Insurance and Managed Care     463373\n",
       "Telecommunications                          461834\n",
       "Wholesalers: Health Care                    444512\n",
       "Aerospace and Defense                       357940\n",
       "Computers, Office Equipment                 353781\n",
       "Utilities: Gas and Electric                 343411\n",
       "Diversified Financials                      327075\n",
       "Pharmaceuticals                             312970\n",
       "Name: Revenue, dtype: int64"
      ]
     },
     "execution_count": 27,
     "metadata": {},
     "output_type": "execute_result"
    }
   ],
   "source": [
    "TopIndustry"
   ]
  },
  {
   "cell_type": "code",
   "execution_count": 28,
   "metadata": {},
   "outputs": [
    {
     "data": {
      "text/plain": [
       "[705472,\n",
       " 684320,\n",
       " 623669,\n",
       " 548027,\n",
       " 543958,\n",
       " 483769,\n",
       " 482540,\n",
       " 463373,\n",
       " 461834,\n",
       " 444512,\n",
       " 357940,\n",
       " 353781,\n",
       " 343411,\n",
       " 327075,\n",
       " 312970]"
      ]
     },
     "execution_count": 28,
     "metadata": {},
     "output_type": "execute_result"
    }
   ],
   "source": [
    "list(TopIndustry)"
   ]
  },
  {
   "cell_type": "code",
   "execution_count": 29,
   "metadata": {
    "scrolled": false
   },
   "outputs": [
    {
     "name": "stderr",
     "output_type": "stream",
     "text": [
      "No handles with labels found to put in legend.\n"
     ]
    },
    {
     "data": {
      "image/png": "[encoded data removed]",
      "text/plain": [
       "<Figure size 936x360 with 1 Axes>"
      ]
     },
     "metadata": {},
     "output_type": "display_data"
    }
   ],
   "source": [
    "plt.style.use('Solarize_Light2')\n",
    "\n",
    "plt.figure(figsize=(13,5))\n",
    "\n",
    "plt.barh(TopIndustry.index,list(TopIndustry),color=\"Red\")\n",
    "plt.title(\"Top Industry(on basis of Revenue)\")\n",
    "plt.xlabel(\"Revenue(in USD)\",fontsize=12,color=\"Crimson\")\n",
    "plt.legend()\n",
    "\n",
    "plt.tight_layout()"
   ]
  },
  {
   "cell_type": "code",
   "execution_count": 30,
   "metadata": {},
   "outputs": [
    {
     "data": {
      "text/plain": [
       "count    1.000000e+03\n",
       "mean     3.302800e+04\n",
       "std      9.042769e+04\n",
       "min      5.200000e+01\n",
       "25%      6.405250e+03\n",
       "50%      1.251950e+04\n",
       "75%      2.812500e+04\n",
       "max      2.300000e+06\n",
       "Name: Employees, dtype: float64"
      ]
     },
     "execution_count": 30,
     "metadata": {},
     "output_type": "execute_result"
    }
   ],
   "source": [
    "fortune.Employees.describe()"
   ]
  },
  {
   "cell_type": "code",
   "execution_count": 31,
   "metadata": {},
   "outputs": [],
   "source": [
    "Emp_Range=[]\n",
    "for i in fortune.Employees :\n",
    "    if i <= 6405 :\n",
    "        Emp_Range.append(\" < 25 percentile\")\n",
    "    elif i <= 12519 :\n",
    "        Emp_Range.append(\"25-50 percentile\")\n",
    "    elif i<= 28125 :\n",
    "        Emp_Range.append(\"50-75 percentile\")\n",
    "    elif i> 28125 :\n",
    "        Emp_Range.append(\"> 75 percentile\")"
   ]
  },
  {
   "cell_type": "code",
   "execution_count": 32,
   "metadata": {},
   "outputs": [],
   "source": [
    "df=fortune.copy()"
   ]
  },
  {
   "cell_type": "code",
   "execution_count": 33,
   "metadata": {},
   "outputs": [],
   "source": [
    "df[\"Emp_Range\"]=Emp_Range"
   ]
  },
  {
   "cell_type": "code",
   "execution_count": 34,
   "metadata": {},
   "outputs": [
    {
     "data": {
      "text/html": [
       "<div>\n",
       "<style scoped>\n",
       "    .dataframe tbody tr th:only-of-type {\n",
       "        vertical-align: middle;\n",
       "    }\n",
       "\n",
       "    .dataframe tbody tr th {\n",
       "        vertical-align: top;\n",
       "    }\n",
       "\n",
       "    .dataframe thead th {\n",
       "        text-align: right;\n",
       "    }\n",
       "</style>\n",
       "<table border=\"1\" class=\"dataframe\">\n",
       "  <thead>\n",
       "    <tr style=\"text-align: right;\">\n",
       "      <th></th>\n",
       "      <th>Rank</th>\n",
       "      <th>Company</th>\n",
       "      <th>Sector</th>\n",
       "      <th>Industry</th>\n",
       "      <th>Location</th>\n",
       "      <th>Revenue</th>\n",
       "      <th>Profits</th>\n",
       "      <th>Employees</th>\n",
       "      <th>StateBased</th>\n",
       "      <th>Emp_Range</th>\n",
       "    </tr>\n",
       "  </thead>\n",
       "  <tbody>\n",
       "    <tr>\n",
       "      <th>0</th>\n",
       "      <td>1</td>\n",
       "      <td>Walmart</td>\n",
       "      <td>Retailing</td>\n",
       "      <td>General Merchandisers</td>\n",
       "      <td>Bentonville, AR</td>\n",
       "      <td>482130</td>\n",
       "      <td>14694</td>\n",
       "      <td>2300000</td>\n",
       "      <td>AR</td>\n",
       "      <td>&gt; 75 percentile</td>\n",
       "    </tr>\n",
       "    <tr>\n",
       "      <th>1</th>\n",
       "      <td>2</td>\n",
       "      <td>Exxon Mobil</td>\n",
       "      <td>Energy</td>\n",
       "      <td>Petroleum Refining</td>\n",
       "      <td>Irving, TX</td>\n",
       "      <td>246204</td>\n",
       "      <td>16150</td>\n",
       "      <td>75600</td>\n",
       "      <td>TX</td>\n",
       "      <td>&gt; 75 percentile</td>\n",
       "    </tr>\n",
       "    <tr>\n",
       "      <th>2</th>\n",
       "      <td>3</td>\n",
       "      <td>Apple</td>\n",
       "      <td>Technology</td>\n",
       "      <td>Computers, Office Equipment</td>\n",
       "      <td>Cupertino, CA</td>\n",
       "      <td>233715</td>\n",
       "      <td>53394</td>\n",
       "      <td>110000</td>\n",
       "      <td>CA</td>\n",
       "      <td>&gt; 75 percentile</td>\n",
       "    </tr>\n",
       "    <tr>\n",
       "      <th>3</th>\n",
       "      <td>4</td>\n",
       "      <td>Berkshire Hathaway</td>\n",
       "      <td>Financials</td>\n",
       "      <td>Insurance: Property and Casualty (Stock)</td>\n",
       "      <td>Omaha, NE</td>\n",
       "      <td>210821</td>\n",
       "      <td>24083</td>\n",
       "      <td>331000</td>\n",
       "      <td>NE</td>\n",
       "      <td>&gt; 75 percentile</td>\n",
       "    </tr>\n",
       "    <tr>\n",
       "      <th>4</th>\n",
       "      <td>5</td>\n",
       "      <td>McKesson</td>\n",
       "      <td>Health Care</td>\n",
       "      <td>Wholesalers: Health Care</td>\n",
       "      <td>San Francisco, CA</td>\n",
       "      <td>181241</td>\n",
       "      <td>1476</td>\n",
       "      <td>70400</td>\n",
       "      <td>CA</td>\n",
       "      <td>&gt; 75 percentile</td>\n",
       "    </tr>\n",
       "  </tbody>\n",
       "</table>\n",
       "</div>"
      ],
      "text/plain": [
       "   Rank             Company       Sector  \\\n",
       "0     1             Walmart    Retailing   \n",
       "1     2         Exxon Mobil       Energy   \n",
       "2     3               Apple   Technology   \n",
       "3     4  Berkshire Hathaway   Financials   \n",
       "4     5            McKesson  Health Care   \n",
       "\n",
       "                                   Industry           Location  Revenue  \\\n",
       "0                     General Merchandisers    Bentonville, AR   482130   \n",
       "1                        Petroleum Refining         Irving, TX   246204   \n",
       "2               Computers, Office Equipment      Cupertino, CA   233715   \n",
       "3  Insurance: Property and Casualty (Stock)          Omaha, NE   210821   \n",
       "4                  Wholesalers: Health Care  San Francisco, CA   181241   \n",
       "\n",
       "   Profits  Employees StateBased        Emp_Range  \n",
       "0    14694    2300000         AR  > 75 percentile  \n",
       "1    16150      75600         TX  > 75 percentile  \n",
       "2    53394     110000         CA  > 75 percentile  \n",
       "3    24083     331000         NE  > 75 percentile  \n",
       "4     1476      70400         CA  > 75 percentile  "
      ]
     },
     "execution_count": 34,
     "metadata": {},
     "output_type": "execute_result"
    }
   ],
   "source": [
    "df.head()"
   ]
  },
  {
   "cell_type": "code",
   "execution_count": 35,
   "metadata": {},
   "outputs": [
    {
     "data": {
      "text/plain": [
       "<matplotlib.collections.PathCollection at 0x2b669bb7760>"
      ]
     },
     "execution_count": 35,
     "metadata": {},
     "output_type": "execute_result"
    },
    {
     "data": {
      "image/png": "[encoded data removed]",
      "text/plain": [
       "<Figure size 1440x360 with 1 Axes>"
      ]
     },
     "metadata": {},
     "output_type": "display_data"
    }
   ],
   "source": [
    "plt.figure(figsize=(20,5))\n",
    "plt.scatter(fortune.Revenue,fortune.Employees)"
   ]
  },
  {
   "cell_type": "code",
   "execution_count": 36,
   "metadata": {},
   "outputs": [],
   "source": [
    "Employee=df.groupby(by=[\"Emp_Range\"])"
   ]
  },
  {
   "cell_type": "code",
   "execution_count": 37,
   "metadata": {},
   "outputs": [
    {
     "data": {
      "text/plain": [
       "Emp_Range\n",
       " < 25 percentile    250\n",
       "25-50 percentile    250\n",
       "50-75 percentile    250\n",
       "> 75 percentile     250\n",
       "dtype: int64"
      ]
     },
     "execution_count": 37,
     "metadata": {},
     "output_type": "execute_result"
    }
   ],
   "source": [
    "Employee.size()"
   ]
  },
  {
   "cell_type": "code",
   "execution_count": 38,
   "metadata": {},
   "outputs": [
    {
     "data": {
      "text/plain": [
       "Emp_Range\n",
       " < 25 percentile    1109890\n",
       "25-50 percentile    1571441\n",
       "50-75 percentile    2164199\n",
       "> 75 percentile     8689995\n",
       "Name: Revenue, dtype: int64"
      ]
     },
     "execution_count": 38,
     "metadata": {},
     "output_type": "execute_result"
    }
   ],
   "source": [
    "Employee[\"Revenue\"].sum()  "
   ]
  },
  {
   "cell_type": "code",
   "execution_count": 39,
   "metadata": {},
   "outputs": [
    {
     "data": {
      "text/html": [
       "<div>\n",
       "<style scoped>\n",
       "    .dataframe tbody tr th:only-of-type {\n",
       "        vertical-align: middle;\n",
       "    }\n",
       "\n",
       "    .dataframe tbody tr th {\n",
       "        vertical-align: top;\n",
       "    }\n",
       "\n",
       "    .dataframe thead th {\n",
       "        text-align: right;\n",
       "    }\n",
       "</style>\n",
       "<table border=\"1\" class=\"dataframe\">\n",
       "  <thead>\n",
       "    <tr style=\"text-align: right;\">\n",
       "      <th></th>\n",
       "      <th>Rank</th>\n",
       "      <th>Company</th>\n",
       "      <th>Sector</th>\n",
       "      <th>Industry</th>\n",
       "      <th>Location</th>\n",
       "      <th>Revenue</th>\n",
       "      <th>Profits</th>\n",
       "      <th>Employees</th>\n",
       "      <th>StateBased</th>\n",
       "      <th>Emp_Range</th>\n",
       "    </tr>\n",
       "  </thead>\n",
       "  <tbody>\n",
       "    <tr>\n",
       "      <th>0</th>\n",
       "      <td>1</td>\n",
       "      <td>Walmart</td>\n",
       "      <td>Retailing</td>\n",
       "      <td>General Merchandisers</td>\n",
       "      <td>Bentonville, AR</td>\n",
       "      <td>482130</td>\n",
       "      <td>14694</td>\n",
       "      <td>2300000</td>\n",
       "      <td>AR</td>\n",
       "      <td>&gt; 75 percentile</td>\n",
       "    </tr>\n",
       "    <tr>\n",
       "      <th>1</th>\n",
       "      <td>2</td>\n",
       "      <td>Exxon Mobil</td>\n",
       "      <td>Energy</td>\n",
       "      <td>Petroleum Refining</td>\n",
       "      <td>Irving, TX</td>\n",
       "      <td>246204</td>\n",
       "      <td>16150</td>\n",
       "      <td>75600</td>\n",
       "      <td>TX</td>\n",
       "      <td>&gt; 75 percentile</td>\n",
       "    </tr>\n",
       "    <tr>\n",
       "      <th>2</th>\n",
       "      <td>3</td>\n",
       "      <td>Apple</td>\n",
       "      <td>Technology</td>\n",
       "      <td>Computers, Office Equipment</td>\n",
       "      <td>Cupertino, CA</td>\n",
       "      <td>233715</td>\n",
       "      <td>53394</td>\n",
       "      <td>110000</td>\n",
       "      <td>CA</td>\n",
       "      <td>&gt; 75 percentile</td>\n",
       "    </tr>\n",
       "    <tr>\n",
       "      <th>3</th>\n",
       "      <td>4</td>\n",
       "      <td>Berkshire Hathaway</td>\n",
       "      <td>Financials</td>\n",
       "      <td>Insurance: Property and Casualty (Stock)</td>\n",
       "      <td>Omaha, NE</td>\n",
       "      <td>210821</td>\n",
       "      <td>24083</td>\n",
       "      <td>331000</td>\n",
       "      <td>NE</td>\n",
       "      <td>&gt; 75 percentile</td>\n",
       "    </tr>\n",
       "    <tr>\n",
       "      <th>4</th>\n",
       "      <td>5</td>\n",
       "      <td>McKesson</td>\n",
       "      <td>Health Care</td>\n",
       "      <td>Wholesalers: Health Care</td>\n",
       "      <td>San Francisco, CA</td>\n",
       "      <td>181241</td>\n",
       "      <td>1476</td>\n",
       "      <td>70400</td>\n",
       "      <td>CA</td>\n",
       "      <td>&gt; 75 percentile</td>\n",
       "    </tr>\n",
       "    <tr>\n",
       "      <th>...</th>\n",
       "      <td>...</td>\n",
       "      <td>...</td>\n",
       "      <td>...</td>\n",
       "      <td>...</td>\n",
       "      <td>...</td>\n",
       "      <td>...</td>\n",
       "      <td>...</td>\n",
       "      <td>...</td>\n",
       "      <td>...</td>\n",
       "      <td>...</td>\n",
       "    </tr>\n",
       "    <tr>\n",
       "      <th>743</th>\n",
       "      <td>744</td>\n",
       "      <td>Convergys</td>\n",
       "      <td>Business Services</td>\n",
       "      <td>Diversified Outsourcing Services</td>\n",
       "      <td>Cincinnati, OH</td>\n",
       "      <td>2951</td>\n",
       "      <td>169</td>\n",
       "      <td>130000</td>\n",
       "      <td>OH</td>\n",
       "      <td>&gt; 75 percentile</td>\n",
       "    </tr>\n",
       "    <tr>\n",
       "      <th>762</th>\n",
       "      <td>763</td>\n",
       "      <td>Cracker Barrel Old Country Store</td>\n",
       "      <td>Hotels, Resturants &amp; Leisure</td>\n",
       "      <td>Food Services</td>\n",
       "      <td>Lebanon, TN</td>\n",
       "      <td>2842</td>\n",
       "      <td>164</td>\n",
       "      <td>72000</td>\n",
       "      <td>TN</td>\n",
       "      <td>&gt; 75 percentile</td>\n",
       "    </tr>\n",
       "    <tr>\n",
       "      <th>796</th>\n",
       "      <td>797</td>\n",
       "      <td>Panera Bread</td>\n",
       "      <td>Hotels, Resturants &amp; Leisure</td>\n",
       "      <td>Food Services</td>\n",
       "      <td>St. Louis, MO</td>\n",
       "      <td>2682</td>\n",
       "      <td>149</td>\n",
       "      <td>37200</td>\n",
       "      <td>MO</td>\n",
       "      <td>&gt; 75 percentile</td>\n",
       "    </tr>\n",
       "    <tr>\n",
       "      <th>940</th>\n",
       "      <td>941</td>\n",
       "      <td>Cheesecake Factory</td>\n",
       "      <td>Hotels, Resturants &amp; Leisure</td>\n",
       "      <td>Food Services</td>\n",
       "      <td>Calabasas Hills, CA</td>\n",
       "      <td>2101</td>\n",
       "      <td>117</td>\n",
       "      <td>37600</td>\n",
       "      <td>CA</td>\n",
       "      <td>&gt; 75 percentile</td>\n",
       "    </tr>\n",
       "    <tr>\n",
       "      <th>943</th>\n",
       "      <td>944</td>\n",
       "      <td>TTM Technologies</td>\n",
       "      <td>Technology</td>\n",
       "      <td>Semiconductors and Other Electronic Components</td>\n",
       "      <td>Costa Mesa, CA</td>\n",
       "      <td>2096</td>\n",
       "      <td>-26</td>\n",
       "      <td>29570</td>\n",
       "      <td>CA</td>\n",
       "      <td>&gt; 75 percentile</td>\n",
       "    </tr>\n",
       "  </tbody>\n",
       "</table>\n",
       "<p>250 rows × 10 columns</p>\n",
       "</div>"
      ],
      "text/plain": [
       "     Rank                           Company                        Sector  \\\n",
       "0       1                           Walmart                     Retailing   \n",
       "1       2                       Exxon Mobil                        Energy   \n",
       "2       3                             Apple                    Technology   \n",
       "3       4                Berkshire Hathaway                    Financials   \n",
       "4       5                          McKesson                   Health Care   \n",
       "..    ...                               ...                           ...   \n",
       "743   744                         Convergys             Business Services   \n",
       "762   763  Cracker Barrel Old Country Store  Hotels, Resturants & Leisure   \n",
       "796   797                      Panera Bread  Hotels, Resturants & Leisure   \n",
       "940   941                Cheesecake Factory  Hotels, Resturants & Leisure   \n",
       "943   944                  TTM Technologies                    Technology   \n",
       "\n",
       "                                           Industry             Location  \\\n",
       "0                             General Merchandisers      Bentonville, AR   \n",
       "1                                Petroleum Refining           Irving, TX   \n",
       "2                       Computers, Office Equipment        Cupertino, CA   \n",
       "3          Insurance: Property and Casualty (Stock)            Omaha, NE   \n",
       "4                          Wholesalers: Health Care    San Francisco, CA   \n",
       "..                                              ...                  ...   \n",
       "743                Diversified Outsourcing Services       Cincinnati, OH   \n",
       "762                                   Food Services          Lebanon, TN   \n",
       "796                                   Food Services        St. Louis, MO   \n",
       "940                                   Food Services  Calabasas Hills, CA   \n",
       "943  Semiconductors and Other Electronic Components       Costa Mesa, CA   \n",
       "\n",
       "     Revenue  Profits  Employees StateBased        Emp_Range  \n",
       "0     482130    14694    2300000         AR  > 75 percentile  \n",
       "1     246204    16150      75600         TX  > 75 percentile  \n",
       "2     233715    53394     110000         CA  > 75 percentile  \n",
       "3     210821    24083     331000         NE  > 75 percentile  \n",
       "4     181241     1476      70400         CA  > 75 percentile  \n",
       "..       ...      ...        ...        ...              ...  \n",
       "743     2951      169     130000         OH  > 75 percentile  \n",
       "762     2842      164      72000         TN  > 75 percentile  \n",
       "796     2682      149      37200         MO  > 75 percentile  \n",
       "940     2101      117      37600         CA  > 75 percentile  \n",
       "943     2096      -26      29570         CA  > 75 percentile  \n",
       "\n",
       "[250 rows x 10 columns]"
      ]
     },
     "execution_count": 39,
     "metadata": {},
     "output_type": "execute_result"
    }
   ],
   "source": [
    "Employee.get_group(\"> 75 percentile\")"
   ]
  },
  {
   "cell_type": "code",
   "execution_count": 40,
   "metadata": {},
   "outputs": [],
   "source": [
    "states=fortune.groupby(by=[\"StateBased\"])"
   ]
  },
  {
   "cell_type": "code",
   "execution_count": 41,
   "metadata": {},
   "outputs": [
    {
     "data": {
      "text/plain": [
       "45"
      ]
     },
     "execution_count": 41,
     "metadata": {},
     "output_type": "execute_result"
    }
   ],
   "source": [
    "states.ngroups"
   ]
  },
  {
   "cell_type": "code",
   "execution_count": 42,
   "metadata": {
    "scrolled": true
   },
   "outputs": [
    {
     "data": {
      "text/plain": [
       "StateBased\n",
       " CA    108\n",
       " TX     99\n",
       " NY     95\n",
       " IL     64\n",
       " OH     55\n",
       " PA     46\n",
       " VA     37\n",
       " FL     35\n",
       " MA     31\n",
       " NJ     30\n",
       " GA     30\n",
       " MI     30\n",
       " CT     29\n",
       " MO     25\n",
       " MN     25\n",
       "dtype: int64"
      ]
     },
     "execution_count": 42,
     "metadata": {},
     "output_type": "execute_result"
    }
   ],
   "source": [
    "states.size().sort_values(ascending=False).head(15)"
   ]
  },
  {
   "cell_type": "code",
   "execution_count": 43,
   "metadata": {
    "scrolled": false
   },
   "outputs": [],
   "source": [
    "s=states.Revenue.sum().sort_values(ascending=False).head(15)"
   ]
  },
  {
   "cell_type": "code",
   "execution_count": 44,
   "metadata": {
    "scrolled": true
   },
   "outputs": [
    {
     "data": {
      "text/plain": [
       "StateBased\n",
       " CA    1672700\n",
       " NY    1509419\n",
       " TX    1395413\n",
       " IL     924124\n",
       " OH     688569\n",
       " AR     559178\n",
       " MI     544020\n",
       " MN     516969\n",
       " PA     489858\n",
       " CT     461893\n",
       " GA     409381\n",
       " WA     407552\n",
       " NJ     385007\n",
       " VA     380575\n",
       " FL     307008\n",
       "Name: Revenue, dtype: int64"
      ]
     },
     "execution_count": 44,
     "metadata": {},
     "output_type": "execute_result"
    }
   ],
   "source": [
    "s"
   ]
  },
  {
   "cell_type": "code",
   "execution_count": 45,
   "metadata": {},
   "outputs": [
    {
     "data": {
      "text/plain": [
       "Index([' CA', ' NY', ' TX', ' IL', ' OH', ' AR', ' MI', ' MN', ' PA', ' CT',\n",
       "       ' GA', ' WA', ' NJ', ' VA', ' FL'],\n",
       "      dtype='object', name='StateBased')"
      ]
     },
     "execution_count": 45,
     "metadata": {},
     "output_type": "execute_result"
    }
   ],
   "source": [
    "s.index"
   ]
  },
  {
   "cell_type": "code",
   "execution_count": 46,
   "metadata": {
    "scrolled": true
   },
   "outputs": [
    {
     "data": {
      "image/png": "[encoded data removed]",
      "text/plain": [
       "<Figure size 720x360 with 1 Axes>"
      ]
     },
     "metadata": {},
     "output_type": "display_data"
    }
   ],
   "source": [
    "plt.figure(figsize=(10,5))\n",
    "plt.barh(s.index,s)\n",
    "plt.title(\"Revenue based on States\")\n",
    "ticks=np.arange(0,1700000,100000)\n",
    "labels=[\"{}\".format(i//100000) for i in ticks]\n",
    "plt.yticks(s.index,s.index,fontsize=12,color=\"Black\")\n",
    "plt.xticks(ticks,labels)\n",
    "plt.xlabel(\"Revenue in USD(per 100K)\")\n",
    "plt.tight_layout()"
   ]
  },
  {
   "cell_type": "code",
   "execution_count": 47,
   "metadata": {},
   "outputs": [],
   "source": [
    "rp=fortune.head(10)"
   ]
  },
  {
   "cell_type": "code",
   "execution_count": 48,
   "metadata": {},
   "outputs": [
    {
     "data": {
      "text/html": [
       "<div>\n",
       "<style scoped>\n",
       "    .dataframe tbody tr th:only-of-type {\n",
       "        vertical-align: middle;\n",
       "    }\n",
       "\n",
       "    .dataframe tbody tr th {\n",
       "        vertical-align: top;\n",
       "    }\n",
       "\n",
       "    .dataframe thead th {\n",
       "        text-align: right;\n",
       "    }\n",
       "</style>\n",
       "<table border=\"1\" class=\"dataframe\">\n",
       "  <thead>\n",
       "    <tr style=\"text-align: right;\">\n",
       "      <th></th>\n",
       "      <th>Company</th>\n",
       "      <th>Revenue</th>\n",
       "      <th>Profits</th>\n",
       "    </tr>\n",
       "  </thead>\n",
       "  <tbody>\n",
       "    <tr>\n",
       "      <th>0</th>\n",
       "      <td>Walmart</td>\n",
       "      <td>482130</td>\n",
       "      <td>14694</td>\n",
       "    </tr>\n",
       "    <tr>\n",
       "      <th>1</th>\n",
       "      <td>Exxon Mobil</td>\n",
       "      <td>246204</td>\n",
       "      <td>16150</td>\n",
       "    </tr>\n",
       "    <tr>\n",
       "      <th>2</th>\n",
       "      <td>Apple</td>\n",
       "      <td>233715</td>\n",
       "      <td>53394</td>\n",
       "    </tr>\n",
       "    <tr>\n",
       "      <th>3</th>\n",
       "      <td>Berkshire Hathaway</td>\n",
       "      <td>210821</td>\n",
       "      <td>24083</td>\n",
       "    </tr>\n",
       "    <tr>\n",
       "      <th>4</th>\n",
       "      <td>McKesson</td>\n",
       "      <td>181241</td>\n",
       "      <td>1476</td>\n",
       "    </tr>\n",
       "    <tr>\n",
       "      <th>5</th>\n",
       "      <td>UnitedHealth Group</td>\n",
       "      <td>157107</td>\n",
       "      <td>5813</td>\n",
       "    </tr>\n",
       "    <tr>\n",
       "      <th>6</th>\n",
       "      <td>CVS Health</td>\n",
       "      <td>153290</td>\n",
       "      <td>5237</td>\n",
       "    </tr>\n",
       "    <tr>\n",
       "      <th>7</th>\n",
       "      <td>General Motors</td>\n",
       "      <td>152356</td>\n",
       "      <td>9687</td>\n",
       "    </tr>\n",
       "    <tr>\n",
       "      <th>8</th>\n",
       "      <td>Ford Motor</td>\n",
       "      <td>149558</td>\n",
       "      <td>7373</td>\n",
       "    </tr>\n",
       "    <tr>\n",
       "      <th>9</th>\n",
       "      <td>AT&amp;T</td>\n",
       "      <td>146801</td>\n",
       "      <td>13345</td>\n",
       "    </tr>\n",
       "  </tbody>\n",
       "</table>\n",
       "</div>"
      ],
      "text/plain": [
       "              Company  Revenue  Profits\n",
       "0             Walmart   482130    14694\n",
       "1         Exxon Mobil   246204    16150\n",
       "2               Apple   233715    53394\n",
       "3  Berkshire Hathaway   210821    24083\n",
       "4            McKesson   181241     1476\n",
       "5  UnitedHealth Group   157107     5813\n",
       "6          CVS Health   153290     5237\n",
       "7      General Motors   152356     9687\n",
       "8          Ford Motor   149558     7373\n",
       "9                AT&T   146801    13345"
      ]
     },
     "execution_count": 48,
     "metadata": {},
     "output_type": "execute_result"
    }
   ],
   "source": [
    "rp.loc[:,[\"Company\",\"Revenue\",\"Profits\"]]"
   ]
  },
  {
   "cell_type": "code",
   "execution_count": 49,
   "metadata": {},
   "outputs": [],
   "source": [
    "company=list(rp.Company)\n",
    "company.reverse()\n",
    "R=list(rp.Revenue)\n",
    "R.reverse()\n",
    "P=list(rp.Profits)\n",
    "P.reverse()"
   ]
  },
  {
   "cell_type": "code",
   "execution_count": 50,
   "metadata": {},
   "outputs": [
    {
     "data": {
      "text/plain": [
       "[146801,\n",
       " 149558,\n",
       " 152356,\n",
       " 153290,\n",
       " 157107,\n",
       " 181241,\n",
       " 210821,\n",
       " 233715,\n",
       " 246204,\n",
       " 482130]"
      ]
     },
     "execution_count": 50,
     "metadata": {},
     "output_type": "execute_result"
    }
   ],
   "source": [
    "R"
   ]
  },
  {
   "cell_type": "code",
   "execution_count": 51,
   "metadata": {
    "scrolled": true
   },
   "outputs": [
    {
     "data": {
      "image/png": "[encoded data removed]",
      "text/plain": [
       "<Figure size 720x720 with 1 Axes>"
      ]
     },
     "metadata": {},
     "output_type": "display_data"
    }
   ],
   "source": [
    "plt.style.use(\"ggplot\")\n",
    "rev=np.arange(len(company))\n",
    "plt.figure(figsize=(10,10))\n",
    "\n",
    "plt.title(\"Top Companies Revenue vs Profits\",fontsize=15)\n",
    "plt.barh(rev,R,color=\"Green\",height=0.3,edgecolor=\"Black\",label=\"Revenue\")\n",
    "plt.barh(rev-0.3,P,color=\"Orange\",height=0.3,edgecolor=\"Black\",label=\"Profit\")\n",
    "plt.yticks(rev,company)\n",
    "plt.xlabel(\"Money in USD\")\n",
    "plt.legend(loc=\"center right\")\n",
    "plt.tight_layout()"
   ]
  }
 ],
 "metadata": {
  "kernelspec": {
   "display_name": "Python 3",
   "language": "python",
   "name": "python3"
  },
  "language_info": {
   "codemirror_mode": {
    "name": "ipython",
    "version": 3
   },
   "file_extension": ".py",
   "mimetype": "text/x-python",
   "name": "python",
   "nbconvert_exporter": "python",
   "pygments_lexer": "ipython3",
   "version": "3.8.3"
  }
 },
 "nbformat": 4,
 "nbformat_minor": 4
}
